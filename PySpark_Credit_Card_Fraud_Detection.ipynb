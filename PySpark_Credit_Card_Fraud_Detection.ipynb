{
  "cells": [
    {
      "cell_type": "code",
      "execution_count": null,
      "metadata": {
        "colab": {
          "base_uri": "https://localhost:8080/"
        },
        "id": "UEJKY37HZugE",
        "outputId": "268f5132-c50f-45b5-b170-c9d13c4a147d"
      },
      "outputs": [
        {
          "name": "stdout",
          "output_type": "stream",
          "text": [
            "Collecting pyspark\n",
            "  Downloading pyspark-3.5.2.tar.gz (317.3 MB)\n",
            "\u001b[2K     \u001b[90m━━━━━━━━━━━━━━━━━━━━━━━━━━━━━━━━━━━━━━━━\u001b[0m \u001b[32m317.3/317.3 MB\u001b[0m \u001b[31m4.2 MB/s\u001b[0m eta \u001b[36m0:00:00\u001b[0m\n",
            "\u001b[?25h  Preparing metadata (setup.py) ... \u001b[?25l\u001b[?25hdone\n",
            "Requirement already satisfied: py4j==0.10.9.7 in /usr/local/lib/python3.10/dist-packages (from pyspark) (0.10.9.7)\n",
            "Building wheels for collected packages: pyspark\n",
            "  Building wheel for pyspark (setup.py) ... \u001b[?25l\u001b[?25hdone\n",
            "  Created wheel for pyspark: filename=pyspark-3.5.2-py2.py3-none-any.whl size=317812365 sha256=387f75082154be6dd6c1f1dde0652cba300fef8c354575258a05852f3e334e2f\n",
            "  Stored in directory: /root/.cache/pip/wheels/34/34/bd/03944534c44b677cd5859f248090daa9fb27b3c8f8e5f49574\n",
            "Successfully built pyspark\n",
            "Installing collected packages: pyspark\n",
            "Successfully installed pyspark-3.5.2\n"
          ]
        }
      ],
      "source": [
        "\n",
        "# !pip install pyspark\n",
        "\n",
        "# Import necessary libraries\n",
        "import os\n",
        "from pyspark.sql import SparkSession\n",
        "from pyspark.sql.functions import col, sum, udf\n",
        "from pyspark.ml.feature import VectorAssembler, StringIndexer, MinMaxScaler\n",
        "from pyspark.ml.classification import RandomForestClassifier, GBTClassifier\n",
        "from pyspark.ml.tuning import ParamGridBuilder, CrossValidator\n",
        "from pyspark.ml.evaluation import BinaryClassificationEvaluator, MulticlassClassificationEvaluator\n",
        "from pyspark.ml.linalg import Vectors\n",
        "import numpy as np\n",
        "from pyspark.sql.types import FloatType\n",
        "\n",
        "# Set up the Spark session\n",
        "spark = SparkSession.builder \\\n",
        "    .appName(\"FraudDetectionImproved\") \\\n",
        "    .master(\"local[*]\") \\\n",
        "    .config(\"spark.executorEnv.PYTHONHASHSEED\", \"0\") \\\n",
        "    .getOrCreate()"
      ]
    },
    {
      "cell_type": "code",
      "execution_count": null,
      "metadata": {
        "colab": {
          "base_uri": "https://localhost:8080/"
        },
        "id": "WtlUCnkpZxuc",
        "outputId": "e340841d-a014-4854-bcc3-9545bc896a64"
      },
      "outputs": [
        {
          "name": "stdout",
          "output_type": "stream",
          "text": [
            "+----+------------------+-------------------+----------------+------------------+-------------------+-------------------+-------------------+------------------+------------------+-------------------+------------------+------------------+------------------+------------------+------------------+------------------+------------------+-------------------+------------------+-------------------+--------------------+-------------------+------------------+------------------+------------------+------------------+--------------------+-------------------+------+-----+\n",
            "|Time|                V1|                 V2|              V3|                V4|                 V5|                 V6|                 V7|                V8|                V9|                V10|               V11|               V12|               V13|               V14|               V15|               V16|               V17|                V18|               V19|                V20|                 V21|                V22|               V23|               V24|               V25|               V26|                 V27|                V28|Amount|Class|\n",
            "+----+------------------+-------------------+----------------+------------------+-------------------+-------------------+-------------------+------------------+------------------+-------------------+------------------+------------------+------------------+------------------+------------------+------------------+------------------+-------------------+------------------+-------------------+--------------------+-------------------+------------------+------------------+------------------+------------------+--------------------+-------------------+------+-----+\n",
            "| 0.0|  -1.3598071336738|-0.0727811733098497|2.53634673796914|  1.37815522427443| -0.338320769942518|  0.462387777762292|  0.239598554061257|0.0986979012610507| 0.363786969611213| 0.0907941719789316|-0.551599533260813|-0.617800855762348|-0.991389847235408|-0.311169353699879|  1.46817697209427|-0.470400525259478| 0.207971241929242| 0.0257905801985591| 0.403992960255733|  0.251412098239705|  -0.018306777944153|  0.277837575558899|-0.110473910188767|0.0669280749146731| 0.128539358273528|-0.189114843888824|   0.133558376740387|-0.0210530534538215|149.62|    0|\n",
            "| 0.0|  1.19185711131486|   0.26615071205963|0.16648011335321| 0.448154078460911| 0.0600176492822243|-0.0823608088155687|-0.0788029833323113|0.0851016549148104|-0.255425128109186| -0.166974414004614|  1.61272666105479|  1.06523531137287|  0.48909501589608|-0.143772296441519| 0.635558093258208| 0.463917041022171|-0.114804663102346| -0.183361270123994|-0.145783041325259|-0.0690831352230203|  -0.225775248033138| -0.638671952771851| 0.101288021253234|-0.339846475529127| 0.167170404418143| 0.125894532368176|-0.00898309914322813| 0.0147241691924927|  2.69|    0|\n",
            "| 1.0| -1.35835406159823|  -1.34016307473609|1.77320934263119| 0.379779593034328| -0.503198133318193|   1.80049938079263|  0.791460956450422| 0.247675786588991| -1.51465432260583|  0.207642865216696| 0.624501459424895| 0.066083685268831| 0.717292731410831|-0.165945922763554|  2.34586494901581| -2.89008319444231|  1.10996937869599| -0.121359313195888| -2.26185709530414|  0.524979725224404|   0.247998153469754|  0.771679401917229| 0.909412262347719|-0.689280956490685|-0.327641833735251|-0.139096571514147| -0.0553527940384261|-0.0597518405929204|378.66|    0|\n",
            "| 1.0|-0.966271711572087| -0.185226008082898|1.79299333957872|-0.863291275036453|-0.0103088796030823|   1.24720316752486|   0.23760893977178| 0.377435874652262| -1.38702406270197|-0.0549519224713749|-0.226487263835401| 0.178228225877303| 0.507756869957169| -0.28792374549456|-0.631418117709045|  -1.0596472454325|-0.684092786345479|   1.96577500349538|  -1.2326219700892| -0.208037781160366|  -0.108300452035545|0.00527359678253453|-0.190320518742841| -1.17557533186321| 0.647376034602038|-0.221928844458407|  0.0627228487293033| 0.0614576285006353| 123.5|    0|\n",
            "| 2.0| -1.15823309349523|  0.877736754848451|  1.548717846511| 0.403033933955121| -0.407193377311653| 0.0959214624684256|  0.592940745385545|-0.270532677192282| 0.817739308235294|  0.753074431976354|-0.822842877946363|  0.53819555014995|   1.3458515932154| -1.11966983471731| 0.175121130008994|-0.451449182813529|-0.237033239362776|-0.0381947870352842| 0.803486924960175|  0.408542360392758|-0.00943069713232919|   0.79827849458971|-0.137458079619063| 0.141266983824769|-0.206009587619756| 0.502292224181569|   0.219422229513348|  0.215153147499206| 69.99|    0|\n",
            "+----+------------------+-------------------+----------------+------------------+-------------------+-------------------+-------------------+------------------+------------------+-------------------+------------------+------------------+------------------+------------------+------------------+------------------+------------------+-------------------+------------------+-------------------+--------------------+-------------------+------------------+------------------+------------------+------------------+--------------------+-------------------+------+-----+\n",
            "only showing top 5 rows\n",
            "\n",
            "+-------+-----------------+--------------------+--------------------+--------------------+--------------------+--------------------+--------------------+--------------------+--------------------+--------------------+--------------------+--------------------+--------------------+--------------------+--------------------+--------------------+--------------------+--------------------+--------------------+--------------------+--------------------+--------------------+--------------------+--------------------+--------------------+--------------------+--------------------+--------------------+--------------------+------------------+--------------------+\n",
            "|summary|             Time|                  V1|                  V2|                  V3|                  V4|                  V5|                  V6|                  V7|                  V8|                  V9|                 V10|                 V11|                 V12|                 V13|                 V14|                 V15|                 V16|                 V17|                 V18|                 V19|                 V20|                 V21|                 V22|                 V23|                 V24|                 V25|                 V26|                 V27|                 V28|            Amount|               Class|\n",
            "+-------+-----------------+--------------------+--------------------+--------------------+--------------------+--------------------+--------------------+--------------------+--------------------+--------------------+--------------------+--------------------+--------------------+--------------------+--------------------+--------------------+--------------------+--------------------+--------------------+--------------------+--------------------+--------------------+--------------------+--------------------+--------------------+--------------------+--------------------+--------------------+--------------------+------------------+--------------------+\n",
            "|  count|           284807|              284807|              284807|              284807|              284807|              284807|              284807|              284807|              284807|              284807|              284807|              284807|              284807|              284807|              284807|              284807|              284807|              284807|              284807|              284807|              284807|              284807|              284807|              284807|              284807|              284807|              284807|              284807|              284807|            284807|              284807|\n",
            "|   mean|94813.85957508067|-9.19691138597728...|1.692487164780542...|-9.19691138597728...|3.921460827076426...|1.200707875391479...|2.114012269971168...|-2.29922784649432...|-2.04375808577273...|-1.73080762888878...|1.930393379452524...|1.673326932726423...|-2.45250970292727...|8.270833503361519...|1.140033807220101...|3.614897114210517...|1.452185921101795...|-5.42873241533381...|5.684202176055406...|9.404480566563581...|5.460666135424014...|2.267294126404123...|1.213481363427558...|5.939671936776998...|4.502654532718047...|2.018211109700571...|1.695680536789562...|-3.37399711328007...|-1.25739022855158...| 88.34961925095027|0.001727485630620034|\n",
            "| stddev|47488.14595456687|  1.9586958038574829|  1.6513085794770013|  1.5162550051777743|  1.4158685749409106|  1.3802467340314442|  1.3322710897575767|  1.2370935981826656|   1.194352902669205|  1.0986320892243198|  1.0888497654025244|  1.0207130277115641|   0.999201389530149|  0.9952742301251517|  0.9585956112570686|  0.9153160116104369|  0.8762528873883718|  0.8493370636743884|  0.8381762095288442|  0.8140405007685755|  0.7709250248871201|  0.7345240143713111|  0.7257015604409125|  0.6244602955949917|  0.6056470678271599|  0.5212780705409391| 0.48222701326105444|  0.4036324949650307| 0.33008326416024975|250.12010924018725| 0.04152718963546533|\n",
            "|    min|              0.0|    -56.407509631329|   -72.7157275629303|   -48.3255893623954|   -5.68317119816995|   -113.743306711146|   -26.1605059358433|   -43.5572415712451|   -73.2167184552674|   -13.4340663182301|   -24.5882624372475|   -4.79747346479757|   -18.6837146333443|   -5.79188120632084|   -19.2143254902614|   -4.49894467676621|   -14.1298545174931|   -25.1627993693248|   -9.49874592104677|   -7.21352743017759|    -54.497720494566|   -34.8303821448146|    -10.933143697655|   -44.8077352037913|   -2.83662691870341|   -10.2953970749851|   -2.60455055280817|   -22.5656793207827|   -15.4300839055349|               0.0|                   0|\n",
            "|    max|         172792.0|    2.45492999121121|    22.0577289904909|    9.38255843282114|    16.8753440335975|    34.8016658766686|    73.3016255459646|    120.589493945238|    20.0072083651213|    15.5949946071278|    23.7451361206545|    12.0189131816199|     7.8483920756446|    7.12688295859376|    10.5267660517847|    8.87774159774277|    17.3151115176278|    9.25352625047285|    5.04106918541184|    5.59197142733558|    39.4209042482199|    27.2028391573154|    10.5030900899454|    22.5284116897749|    4.58454913689817|    7.51958867870916|     3.5173456116238|    31.6121981061363|    33.8478078188831|          25691.16|                   1|\n",
            "+-------+-----------------+--------------------+--------------------+--------------------+--------------------+--------------------+--------------------+--------------------+--------------------+--------------------+--------------------+--------------------+--------------------+--------------------+--------------------+--------------------+--------------------+--------------------+--------------------+--------------------+--------------------+--------------------+--------------------+--------------------+--------------------+--------------------+--------------------+--------------------+--------------------+------------------+--------------------+\n",
            "\n"
          ]
        }
      ],
      "source": [
        "\n",
        "data = spark.read.csv('creditcard.csv', header=True, inferSchema=True)\n",
        "data = data.orderBy(\"Time\")  # Ensure data is sorted by time\n",
        "data.show(5)\n",
        "data.describe().show()"
      ]
    },
    {
      "cell_type": "code",
      "execution_count": null,
      "metadata": {
        "colab": {
          "base_uri": "https://localhost:8080/"
        },
        "id": "_EXOQkzxbj66",
        "outputId": "1ccb152e-9ab3-45cb-af6a-e3741d1787a3"
      },
      "outputs": [
        {
          "name": "stdout",
          "output_type": "stream",
          "text": [
            "+----+---+---+---+---+---+---+---+---+---+---+---+---+---+---+---+---+---+---+---+---+---+---+---+---+---+---+---+---+------+-----+\n",
            "|Time| V1| V2| V3| V4| V5| V6| V7| V8| V9|V10|V11|V12|V13|V14|V15|V16|V17|V18|V19|V20|V21|V22|V23|V24|V25|V26|V27|V28|Amount|Class|\n",
            "+----+---+---+---+---+---+---+---+---+---+---+---+---+---+---+---+---+---+---+---+---+---+---+---+---+---+---+---+---+------+-----+\n",
            "|   0|  0|  0|  0|  0|  0|  0|  0|  0|  0|  0|  0|  0|  0|  0|  0|  0|  0|  0|  0|  0|  0|  0|  0|  0|  0|  0|  0|  0|     0|    0|\n",
            "+----+---+---+---+---+---+---+---+---+---+---+---+---+---+---+---+---+---+---+---+---+---+---+---+---+---+---+---+---+------+-----+\n",
            "\n",
            "+--------------------+-----+\n",
            "|            features|Class|\n",
            "+--------------------+-----+\n",
            "|[0.0,-1.359807133...|    0|\n",
            "|[0.0,1.1918571113...|    0|\n",
            "|[1.0,-1.358354061...|    0|\n",
            "|[1.0,-0.966271711...|    0|\n",
            "|[2.0,-1.158233093...|    0|\n",
            "+--------------------+-----+\n",
            "only showing top 5 rows\n",
            "\n",
            "Train Data:\n",
            "+-----+------+\n",
            "|Class| count|\n",
            "+-----+------+\n",
            "|    1|   284|\n",
            "|    0|170946|\n",
            "+-----+------+\n",
            "\n",
            "Test and parameter optimisation Data:\n",
            "+-----+-----+\n",
            "|Class|count|\n",
            "+-----+-----+\n",
            "|    1|   89|\n",
            "|    0|56824|\n",
            "+-----+-----+\n",
            "\n",
            "Unseen Data:\n",
            "+-----+-----+\n",
            "|Class|count|\n",
            "+-----+-----+\n",
            "|    1|  104|\n",
            "|    0|56568|\n",
            "+-----+-----+\n",
            "\n"
          ]
        }
      ],
      "source": [
        "# Check for missing values in each column\n",
        "data.select([sum(col(c).isNull().cast(\"int\")).alias(c) for c in data.columns]).show()\n",
        "\n",
        "# Prepare the feature columns\n",
        "feature_columns = data.columns\n",
        "feature_columns.remove(\"Class\")  # Removing \"Class\" column as it is our label\n",
        "\n",
        "# Assemble features into a single vector\n",
        "assembler = VectorAssembler(inputCols=feature_columns, outputCol=\"features\")\n",
        "data = assembler.transform(data)\n",
        "data.select(\"features\", \"Class\").show(5)\n",
        "\n",
        "# Split data into train (60%), test (20%), and unseen (20%)\n",
        "train_data, temp_data = data.randomSplit([0.6, 0.4], seed=42)\n",
        "test_data, unseen_data = temp_data.randomSplit([0.5, 0.5], seed=42)\n",
        "\n",
        "# Print class distribution in each dataset\n",
        "print(\"Train Data:\")\n",
        "train_data.groupBy(\"Class\").count().show()\n",
        "\n",
        "print(\"Test and parameter optimisation Data:\")\n",
        "test_data.groupBy(\"Class\").count().show()\n",
        "\n",
        "print(\"Unseen Data:\")\n",
        "unseen_data.groupBy(\"Class\").count().show()"
      ]
    },
    {
      "cell_type": "code",
      "execution_count": null,
      "metadata": {
        "id": "2EUgVlkxbmHZ"
      },
      "outputs": [],
      "source": [
        "\n",
        "# Initialize RandomForestClassifier\n",
        "rf = RandomForestClassifier(labelCol=\"Class\", featuresCol=\"features\", probabilityCol=\"probability\")\n",
        "\n",
        "# Create ParamGrid for Cross Validation\n",
        "paramGrid = ParamGridBuilder() \\\n",
        "    .addGrid(rf.numTrees, [10, 20 ]) \\\n",
        "    .addGrid(rf.maxDepth, [5, 10]) \\\n",
        "    .build()\n",
        "\n",
        "# Create 5-fold CrossValidator\n",
        "crossval = CrossValidator(estimator=rf,\n",
        "                          estimatorParamMaps=paramGrid,\n",
        "                          evaluator=BinaryClassificationEvaluator(labelCol=\"Class\", metricName=\"areaUnderROC\"),\n",
        "                          numFolds=5)"
      ]
    },
    {
      "cell_type": "code",
      "execution_count": null,
      "metadata": {
        "colab": {
          "background_save": true
        },
        "id": "i1KtDfGIcEKP"
      },
      "outputs": [],
      "source": [
        "# Run cross-validation, and choose the best set of parameters\n",
        "rf_model = crossval.fit(train_data)\n",
        "\n",
        "# Make predictions on test data\n",
        "predictions_rf = rf_model.transform(test_data)\n",
        "\n",
        "# Evaluate Random Forest Model\n",
        "binary_evaluator = BinaryClassificationEvaluator(labelCol=\"Class\", rawPredictionCol=\"rawPrediction\", metricName=\"areaUnderROC\")\n",
        "pr_evaluator = BinaryClassificationEvaluator(labelCol=\"Class\", rawPredictionCol=\"rawPrediction\", metricName=\"areaUnderPR\")\n",
        "\n",
        "auc_rf = binary_evaluator.evaluate(predictions_rf)\n",
        "auprc_rf = pr_evaluator.evaluate(predictions_rf)\n",
        "print(f\"Random Forest - AUC: {auc_rf:.4f}, AUPRC: {auprc_rf:.4f}\")\n",
        "\n",
        "# UDF to extract positive probability from probability vector\n",
        "extract_prob = udf(lambda prob: float(prob[1]), FloatType())\n",
        "predictions_rf = predictions_rf.withColumn(\"positive_probability\", extract_prob(col(\"probability\")))"
      ]
    },
    {
      "cell_type": "code",
      "execution_count": null,
      "metadata": {
        "id": "ANHunYoalGUM"
      },
      "outputs": [],
      "source": [
        "\n",
        "# Function to calculate precision, recall, and F1-score\n",
        "def calculate_metrics(predictions):\n",
        "    tp = predictions.filter((col(\"Class\") == 1) & (col(\"prediction\") == 1)).count()\n",
        "    fp = predictions.filter((col(\"Class\") == 0) & (col(\"prediction\") == 1)).count()\n",
        "    fn = predictions.filter((col(\"Class\") == 1) & (col(\"prediction\") == 0)).count()\n",
        "\n",
        "    precision = tp / (tp + fp) if (tp + fp) != 0 else 0\n",
        "    recall = tp / (tp + fn) if (tp + fn) != 0 else 0\n",
        "    f1_score = (2 * precision * recall) / (precision + recall) if (precision + recall) != 0 else 0\n",
        "\n",
        "    return precision, recall, f1_score\n"
      ]
    },
    {
      "cell_type": "code",
      "execution_count": null,
      "metadata": {
        "colab": {
          "background_save": true
        },
        "id": "odmodmqKcY23",
        "outputId": "ea4c2462-a8d7-4dc3-d88b-dbee4a14878f"
      },
      "outputs": [
        {
          "name": "stdout",
          "output_type": "stream",
          "text": [
            "Best threshold: 0.30000000000000004, Best F1-score: 0.9062\n",
            "Unseen Data - AUC: 0.9384\n",
            "Unseen Data - Precision: 0.9655, Recall: 0.7568, F1-score: 0.8485\n",
            "Unseen Data - AUC: 0.9423, AUPRC: 0.8618\n"
          ]
        }
      ],
      "source": [
        "\n",
        "# Function to calculate precision, recall, and F1-score\n",
        "def calculate_metrics(predictions):\n",
        "    tp = predictions.filter((col(\"Class\") == 1) & (col(\"prediction\") == 1)).count()\n",
        "    fp = predictions.filter((col(\"Class\") == 0) & (col(\"prediction\") == 1)).count()\n",
        "    fn = predictions.filter((col(\"Class\") == 1) & (col(\"prediction\") == 0)).count()\n",
        "\n",
        "    precision = tp / (tp + fp) if (tp + fp) != 0 else 0\n",
        "    recall = tp / (tp + fn) if (tp + fn) != 0 else 0\n",
        "    f1_score = (2 * precision * recall) / (precision + recall) if (precision + recall) != 0 else 0\n",
        "\n",
        "    return precision, recall, f1_score\n",
        "\n",
        "# Find the best threshold for the model\n",
        "best_threshold = 0.5\n",
        "best_f1 = 0\n",
        "for threshold in np.arange(0.1, 0.9, 0.1):\n",
        "    thresholded_predictions = predictions_rf.withColumn(\"prediction\", (col(\"positive_probability\") > threshold).cast(\"double\"))\n",
        "    precision, recall, f1 = calculate_metrics(thresholded_predictions)\n",
        "\n",
        "    if f1 > best_f1:\n",
        "        best_f1 = f1\n",
        "        best_threshold = threshold\n",
        "\n",
        "print(f\"Best threshold: {best_threshold}, Best F1-score: {best_f1:.4f}\")\n",
        "\n",
        "# Evaluate on unseen data\n",
        "predictions_unseen = rf_model.transform(unseen_data)\n",
        "auc_unseen = binary_evaluator.evaluate(predictions_unseen)\n",
        "print(f\"Unseen Data - AUC: {auc_unseen:.4f}\")\n",
        "\n",
        "precision, recall, f1 = calculate_metrics(predictions_unseen)\n",
        "print(f\"Unseen Data - Precision: {precision:.4f}, Recall: {recall:.4f}, F1-score: {f1:.4f}\")\n",
        "\n",
        "area_under_roc = binary_evaluator.evaluate(predictions_unseen)\n",
        "area_under_pr = pr_evaluator.evaluate(predictions_unseen)\n",
        "print(f\"Unseen Data - AUC: {area_under_roc:.4f}, AUPRC: {area_under_pr:.4f}\")"
      ]
    },
    {
      "cell_type": "code",
      "execution_count": null,
      "metadata": {
        "colab": {
          "background_save": true
        },
        "id": "8SmRFU9-de25"
      },
      "outputs": [],
      "source": [
        "\n",
        "# Save the model locally in the Colab environment\n",
        "rf_model.save(\"/content/rf_model\")"
      ]
    },
    {
      "cell_type": "markdown",
      "metadata": {
        "id": "G1n37o4ClpIt"
      },
      "source": [
        "Here Onwards Need to reset the runtime.\n",
        "  1. Load Dependencies\n",
        "  2. Load and Prepare data, make sure to get unseen data\n",
        "\n",
        "---\n",
        "\n",
        "ReDefine The calculate_metrics\n"
      ]
    },
    {
      "cell_type": "code",
      "execution_count": null,
      "metadata": {
        "id": "-tg6RWOelyJi"
      },
      "outputs": [],
      "source": []
    },
    {
      "cell_type": "code",
      "execution_count": null,
      "metadata": {
        "id": "2RANVKsZl3mO"
      },
      "outputs": [],
      "source": []
    },
    {
      "cell_type": "code",
      "execution_count": null,
      "metadata": {
        "id": "1nazfV2OlecJ"
      },
      "outputs": [],
      "source": [
        "def calculate_metrics(predictions):\n",
        "    tp = predictions.filter((col(\"Class\") == 1) & (col(\"prediction\") == 1)).count()\n",
        "    fp = predictions.filter((col(\"Class\") == 0) & (col(\"prediction\") == 1)).count()\n",
        "    fn = predictions.filter((col(\"Class\") == 1) & (col(\"prediction\") == 0)).count()\n",
        "\n",
        "    precision = tp / (tp + fp) if (tp + fp) != 0 else 0\n",
        "    recall = tp / (tp + fn) if (tp + fn) != 0 else 0\n",
        "    f1_score = (2 * precision * recall) / (precision + recall) if (precision + recall) != 0 else 0\n",
        "\n",
        "    return precision, recall, f1_score"
      ]
    },
    {
      "cell_type": "code",
      "execution_count": null,
      "metadata": {
        "colab": {
          "base_uri": "https://localhost:8080/"
        },
        "id": "3QC_Byn9dfTA",
        "outputId": "be26f5f2-32c2-442e-f62c-2c851458a5db"
      },
      "outputs": [
        {
          "name": "stdout",
          "output_type": "stream",
          "text": [
            "Archive:  rf_model.zip\n",
            "  inflating: /content/content/rf_model/metadata/part-00000  \n",
            " extracting: /content/content/rf_model/metadata/_SUCCESS  \n",
            " extracting: /content/content/rf_model/metadata/.part-00000.crc  \n",
            " extracting: /content/content/rf_model/metadata/._SUCCESS.crc  \n",
            "  inflating: /content/content/rf_model/bestModel/metadata/part-00000  \n",
            " extracting: /content/content/rf_model/bestModel/metadata/_SUCCESS  \n",
            " extracting: /content/content/rf_model/bestModel/metadata/.part-00000.crc  \n",
            " extracting: /content/content/rf_model/bestModel/metadata/._SUCCESS.crc  \n",
            "  inflating: /content/content/rf_model/bestModel/treesMetadata/part-00000-9f195bb6-791d-4ef2-9b3a-5f7697725ace-c000.snappy.parquet  \n",
            " extracting: /content/content/rf_model/bestModel/treesMetadata/.part-00000-9f195bb6-791d-4ef2-9b3a-5f7697725ace-c000.snappy.parquet.crc  \n",
            " extracting: /content/content/rf_model/bestModel/treesMetadata/_SUCCESS  \n",
            " extracting: /content/content/rf_model/bestModel/treesMetadata/._SUCCESS.crc  \n",
            " extracting: /content/content/rf_model/bestModel/data/.part-00000-99284819-0fc7-4df5-9850-3a5cd5ec940e-c000.snappy.parquet.crc  \n",
            "  inflating: /content/content/rf_model/bestModel/data/part-00000-99284819-0fc7-4df5-9850-3a5cd5ec940e-c000.snappy.parquet  \n",
            " extracting: /content/content/rf_model/bestModel/data/_SUCCESS  \n",
            " extracting: /content/content/rf_model/bestModel/data/._SUCCESS.crc  \n",
            "  inflating: /content/content/rf_model/evaluator/metadata/part-00000  \n",
            " extracting: /content/content/rf_model/evaluator/metadata/_SUCCESS  \n",
            " extracting: /content/content/rf_model/evaluator/metadata/.part-00000.crc  \n",
            " extracting: /content/content/rf_model/evaluator/metadata/._SUCCESS.crc  \n",
            "  inflating: /content/content/rf_model/estimator/metadata/part-00000  \n",
            " extracting: /content/content/rf_model/estimator/metadata/_SUCCESS  \n",
            " extracting: /content/content/rf_model/estimator/metadata/.part-00000.crc  \n",
            " extracting: /content/content/rf_model/estimator/metadata/._SUCCESS.crc  \n",
            "Unseen Data - AUC (Loaded Model): 0.9523\n",
            "Unseen Data - Precision (Loaded Model): 0.9663, Recall (Loaded Model): 0.7748, F1-score (Loaded Model): 0.8600\n",
            "Unseen Data - AUC (Loaded Model): 0.9611, AUPRC (Loaded Model): 0.8562\n"
          ]
        }
      ],
      "source": [
        "# Unzip the model file to the correct directory\n",
        "!unzip -o rf_model.zip -d /content/\n",
        "\n",
        "from pyspark.ml.tuning import CrossValidatorModel\n",
        "from pyspark.ml.evaluation import BinaryClassificationEvaluator\n",
        "\n",
        "# Update the model path to the correct directory after unzipping\n",
        "model_path = \"/content/content/rf_model\"  # Updated path to match the unzip output\n",
        "\n",
        "# Check if the model directory exists after unzipping\n",
        "import os\n",
        "\n",
        "if not os.path.exists(model_path):\n",
        "    raise FileNotFoundError(f\"Model directory {model_path} does not exist. Ensure the zip file is correct and contains the model.\")\n",
        "\n",
        "try:\n",
        "    # Load the saved CrossValidator model\n",
        "    loaded_model = CrossValidatorModel.load(model_path)\n",
        "\n",
        "    # Make predictions on unseen data using the loaded model\n",
        "    predictions_unseen = loaded_model.transform(unseen_data)\n",
        "\n",
        "    # Evaluate the loaded model on unseen data\n",
        "    binary_evaluator = BinaryClassificationEvaluator(labelCol=\"Class\", rawPredictionCol=\"rawPrediction\", metricName=\"areaUnderROC\")\n",
        "\n",
        "    auc_unseen = binary_evaluator.evaluate(predictions_unseen)\n",
        "    print(f\"Unseen Data - AUC (Loaded Model): {auc_unseen:.4f}\")\n",
        "\n",
        "    # Assuming calculate_metrics is a function you defined for computing precision, recall, f1-score\n",
        "    precision, recall, f1 = calculate_metrics(predictions_unseen)\n",
        "    print(f\"Unseen Data - Precision (Loaded Model): {precision:.4f}, Recall (Loaded Model): {recall:.4f}, F1-score (Loaded Model): {f1:.4f}\")\n",
        "\n",
        "    # Area Under ROC and PR\n",
        "    area_under_roc = binary_evaluator.evaluate(predictions_unseen, {binary_evaluator.metricName: \"areaUnderROC\"})\n",
        "    pr_evaluator = BinaryClassificationEvaluator(labelCol=\"Class\", rawPredictionCol=\"rawPrediction\", metricName=\"areaUnderPR\")\n",
        "    area_under_pr = pr_evaluator.evaluate(predictions_unseen)\n",
        "\n",
        "    print(f\"Unseen Data - AUC (Loaded Model): {area_under_roc:.4f}, AUPRC (Loaded Model): {area_under_pr:.4f}\")\n",
        "\n",
        "except Exception as e:\n",
        "    print(f\"An error occurred while loading the model or making predictions: {e}\")\n"
      ]
    },
    {
      "cell_type": "markdown",
      "metadata": {
        "id": "Ylwwfuu1kmZC"
      },
      "source": []
    },
    {
      "cell_type": "code",
      "execution_count": null,
      "metadata": {
        "colab": {
          "background_save": true
        },
        "id": "-sJ6oohadehj"
      },
      "outputs": [],
      "source": []
    }
  ],
  "metadata": {
    "colab": {
      "provenance": []
    },
    "kernelspec": {
      "display_name": "Python 3",
      "name": "python3"
    },
    "language_info": {
      "name": "python"
    }
  },
  "nbformat": 4,
  "nbformat_minor": 0
}
